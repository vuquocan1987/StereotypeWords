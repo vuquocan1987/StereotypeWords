{
 "cells": [
  {
   "cell_type": "code",
   "execution_count": 5,
   "metadata": {},
   "outputs": [],
   "source": [
    "# write code to read from data in data folder and extract samples of them\n",
    "import os\n",
    "data_path = \"..\"\n",
    "# create list of all file path\n",
    "file_names = [file for file in os.listdir(data_path)]\n",
    "# read the jsonl file\n",
    "import json\n",
    "\n",
    "for file_name in file_names:\n",
    "    if file_name.endswith('.jsonl'):\n",
    "        with open(data_path+ '/' + file_name, 'r') as f:\n",
    "            # read the file\n",
    "            data = f.read().splitlines()\n",
    "            # split the data into list of json\n",
    "            # take one example for each label\n",
    "            # write the example to a new file\n",
    "            lables = set()\n",
    "            with open(data_path+'/test_data/'+file_name, 'a') as f:\n",
    "                    \n",
    "                for item in data:\n",
    "                    json_data = json.loads(item)\n",
    "                    if json_data['label'] not in lables:\n",
    "                        lables.add(json_data['label'])\n",
    "                        f.write(item+'\\n')\n",
    "                        \n",
    "                # write the data to a new file\n",
    "                \n",
    "    # if file is a folder\n",
    "    "
   ]
  },
  {
   "cell_type": "code",
   "execution_count": null,
   "metadata": {},
   "outputs": [],
   "source": []
  }
 ],
 "metadata": {
  "kernelspec": {
   "display_name": "textdebias",
   "language": "python",
   "name": "python3"
  },
  "language_info": {
   "codemirror_mode": {
    "name": "ipython",
    "version": 3
   },
   "file_extension": ".py",
   "mimetype": "text/x-python",
   "name": "python",
   "nbconvert_exporter": "python",
   "pygments_lexer": "ipython3",
   "version": "3.9.15"
  },
  "orig_nbformat": 4
 },
 "nbformat": 4,
 "nbformat_minor": 2
}
