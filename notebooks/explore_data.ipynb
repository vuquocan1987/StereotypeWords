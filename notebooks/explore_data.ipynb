{
 "cells": [
  {
   "cell_type": "code",
   "execution_count": 18,
   "metadata": {},
   "outputs": [],
   "source": [
    "import os\n",
    "import pandas as pd\n",
    "import numpy as np\n",
    "import matplotlib.pyplot as plt\n",
    "data_path = '../data/'\n",
    "# looping over data to explore\n",
    "datum = []\n",
    "file_names = []\n",
    "for file in os.listdir(data_path):\n",
    "    # read jsonl files with enter as delimiter\n",
    "    if file.endswith('.jsonl'):\n",
    "        datum.append(pd.read_json(data_path + file, lines=True))\n",
    "        file_names.append('.'.join(file.split('.')[:2]))\n",
    "datum = zip(datum, file_names)\n",
    "datum = list(datum)"
   ]
  },
  {
   "cell_type": "code",
   "execution_count": null,
   "metadata": {},
   "outputs": [],
   "source": [
    "# looping over data and find which file is largerst\n",
    "data_size = []\n",
    "for data, file_name in datum:\n",
    "    total_words = 0\n",
    "    for line in data['text']:\n",
    "        total_words += len(line.split())\n",
    "    data_size.append((file_name, total_words))\n"
   ]
  },
  {
   "cell_type": "code",
   "execution_count": 22,
   "metadata": {},
   "outputs": [
    {
     "name": "stdout",
     "output_type": "stream",
     "text": [
      "file name: Taobao.train length: 68086\n",
      "file name: HyperPartisan.train length: 516\n",
      "file name: TA.train length: 32\n",
      "file name: AmazonTest.dev length: 4\n",
      "file name: HyperPartisan.dev length: 64\n",
      "file name: ChemProt.train length: 4169\n",
      "file name: News.dev length: 4705\n",
      "file name: Taobao.dev length: 6993\n",
      "file name: SCIERC.test length: 974\n",
      "file name: HyperPartisan.test length: 65\n",
      "file name: AmazonTest.test length: 4\n",
      "file name: Economy.train length: 4774\n",
      "file name: News.train length: 9445\n",
      "file name: News.test length: 4678\n",
      "file name: Amazon.dev length: 600\n",
      "file name: SCIERC.train length: 3219\n",
      "file name: Twitter.dev length: 272\n",
      "file name: Economy.dev length: 595\n",
      "file name: Amazon.train length: 4800\n",
      "file name: Yelp_Hotel.test length: 6993\n",
      "file name: Suning.test length: 50844\n",
      "file name: Parties.test length: 2012\n",
      "file name: Twitter.train length: 1631\n",
      "file name: Twitter.test length: 272\n",
      "file name: ARC.dev length: 114\n",
      "file name: Economy.test length: 596\n",
      "file name: Taobao.test length: 6978\n",
      "file name: ChemProt.dev length: 2427\n",
      "file name: TA.dev length: 32\n",
      "file name: Suning.dev length: 50851\n",
      "file name: Amazon.test length: 600\n",
      "file name: Suning.train length: 234074\n",
      "file name: Yelp_Hotel.train length: 20975\n",
      "file name: ARC.test length: 139\n",
      "file name: Yelp_Hotel.dev length: 6991\n",
      "file name: Parties.train length: 10059\n",
      "file name: ARC.train length: 1688\n",
      "file name: Parties.dev length: 2012\n",
      "file name: AmazonTest.train length: 4\n",
      "file name: TA.test length: 32\n",
      "file name: ChemProt.test length: 3469\n",
      "file name: SCIERC.dev length: 455\n"
     ]
    }
   ],
   "source": [
    "# check metadata of all files\n"
   ]
  },
  {
   "cell_type": "code",
   "execution_count": 24,
   "metadata": {},
   "outputs": [
    {
     "name": "stdout",
     "output_type": "stream",
     "text": [
      "file name: AmazonTest.dev length: 4\n",
      "file name: AmazonTest.test length: 4\n",
      "file name: AmazonTest.train length: 4\n",
      "file name: TA.train length: 32\n",
      "file name: TA.dev length: 32\n",
      "file name: TA.test length: 32\n",
      "file name: HyperPartisan.dev length: 64\n",
      "file name: HyperPartisan.test length: 65\n",
      "file name: ARC.dev length: 114\n",
      "file name: ARC.test length: 139\n",
      "file name: Twitter.dev length: 272\n",
      "file name: Twitter.test length: 272\n",
      "file name: SCIERC.dev length: 455\n",
      "file name: HyperPartisan.train length: 516\n",
      "file name: Economy.dev length: 595\n",
      "file name: Economy.test length: 596\n",
      "file name: Amazon.dev length: 600\n",
      "file name: Amazon.test length: 600\n",
      "file name: SCIERC.test length: 974\n",
      "file name: Twitter.train length: 1631\n",
      "file name: ARC.train length: 1688\n",
      "file name: Parties.test length: 2012\n",
      "file name: Parties.dev length: 2012\n",
      "file name: ChemProt.dev length: 2427\n",
      "file name: SCIERC.train length: 3219\n",
      "file name: ChemProt.test length: 3469\n",
      "file name: ChemProt.train length: 4169\n",
      "file name: News.test length: 4678\n",
      "file name: News.dev length: 4705\n",
      "file name: Economy.train length: 4774\n",
      "file name: Amazon.train length: 4800\n",
      "file name: Taobao.test length: 6978\n",
      "file name: Yelp_Hotel.dev length: 6991\n",
      "file name: Taobao.dev length: 6993\n",
      "file name: Yelp_Hotel.test length: 6993\n",
      "file name: News.train length: 9445\n",
      "file name: Parties.train length: 10059\n",
      "file name: Yelp_Hotel.train length: 20975\n",
      "file name: Suning.test length: 50844\n",
      "file name: Suning.dev length: 50851\n",
      "file name: Taobao.train length: 68086\n",
      "file name: Suning.train length: 234074\n"
     ]
    }
   ],
   "source": [
    "datum.sort(key=lambda x: len(x[0]))\n",
    "for d,f_name in datum:\n",
    "    print(f\"file name: {f_name} length: {len(d)}\")\n"
   ]
  },
  {
   "cell_type": "code",
   "execution_count": 16,
   "metadata": {},
   "outputs": [
    {
     "ename": "TypeError",
     "evalue": "'zip' object is not subscriptable",
     "output_type": "error",
     "traceback": [
      "\u001b[0;31m---------------------------------------------------------------------------\u001b[0m",
      "\u001b[0;31mTypeError\u001b[0m                                 Traceback (most recent call last)",
      "Cell \u001b[0;32mIn[16], line 1\u001b[0m\n\u001b[0;32m----> 1\u001b[0m datum[\u001b[39m0\u001b[39;49m]\n",
      "\u001b[0;31mTypeError\u001b[0m: 'zip' object is not subscriptable"
     ]
    }
   ],
   "source": [
    "datum[0]"
   ]
  },
  {
   "cell_type": "code",
   "execution_count": 12,
   "metadata": {},
   "outputs": [],
   "source": [
    "\n"
   ]
  },
  {
   "cell_type": "code",
   "execution_count": 6,
   "metadata": {},
   "outputs": [
    {
     "data": {
      "text/html": [
       "<div>\n",
       "<style scoped>\n",
       "    .dataframe tbody tr th:only-of-type {\n",
       "        vertical-align: middle;\n",
       "    }\n",
       "\n",
       "    .dataframe tbody tr th {\n",
       "        vertical-align: top;\n",
       "    }\n",
       "\n",
       "    .dataframe thead th {\n",
       "        text-align: right;\n",
       "    }\n",
       "</style>\n",
       "<table border=\"1\" class=\"dataframe\">\n",
       "  <thead>\n",
       "    <tr style=\"text-align: right;\">\n",
       "      <th></th>\n",
       "      <th>label</th>\n",
       "      <th>text</th>\n",
       "    </tr>\n",
       "  </thead>\n",
       "  <tbody>\n",
       "    <tr>\n",
       "      <th>0</th>\n",
       "      <td>零食/坚果/特产</td>\n",
       "      <td>19年新花生米</td>\n",
       "    </tr>\n",
       "    <tr>\n",
       "      <th>1</th>\n",
       "      <td>零食/坚果/特产</td>\n",
       "      <td>2019红皮花生米</td>\n",
       "    </tr>\n",
       "    <tr>\n",
       "      <th>2</th>\n",
       "      <td>零食/坚果/特产</td>\n",
       "      <td>5无糖口香糖</td>\n",
       "    </tr>\n",
       "    <tr>\n",
       "      <th>3</th>\n",
       "      <td>零食/坚果/特产</td>\n",
       "      <td>80后怀旧零食海带丝</td>\n",
       "    </tr>\n",
       "    <tr>\n",
       "      <th>4</th>\n",
       "      <td>零食/坚果/特产</td>\n",
       "      <td>ajj苏打饼干</td>\n",
       "    </tr>\n",
       "  </tbody>\n",
       "</table>\n",
       "</div>"
      ],
      "text/plain": [
       "      label        text\n",
       "0  零食/坚果/特产     19年新花生米\n",
       "1  零食/坚果/特产   2019红皮花生米\n",
       "2  零食/坚果/特产      5无糖口香糖\n",
       "3  零食/坚果/特产  80后怀旧零食海带丝\n",
       "4  零食/坚果/特产     ajj苏打饼干"
      ]
     },
     "execution_count": 6,
     "metadata": {},
     "output_type": "execute_result"
    }
   ],
   "source": [
    "datum[0].head()"
   ]
  }
 ],
 "metadata": {
  "kernelspec": {
   "display_name": "debias",
   "language": "python",
   "name": "python3"
  },
  "language_info": {
   "codemirror_mode": {
    "name": "ipython",
    "version": 3
   },
   "file_extension": ".py",
   "mimetype": "text/x-python",
   "name": "python",
   "nbconvert_exporter": "python",
   "pygments_lexer": "ipython3",
   "version": "3.8.10"
  },
  "orig_nbformat": 4
 },
 "nbformat": 4,
 "nbformat_minor": 2
}
