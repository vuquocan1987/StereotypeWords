{
 "cells": [
  {
   "cell_type": "code",
   "execution_count": 3,
   "metadata": {},
   "outputs": [],
   "source": [
    "import spacy\n",
    "from idiomatch import Idiomatcher"
   ]
  },
  {
   "cell_type": "code",
   "execution_count": 6,
   "metadata": {},
   "outputs": [
    {
     "name": "stderr",
     "output_type": "stream",
     "text": [
      "adding patterns into idiomatcher...: 100%|██████████| 2756/2756 [00:49<00:00, 55.57it/s]\n"
     ]
    }
   ],
   "source": [
    "sent = \"The floodgates will remain opened for a host of new lawsuits.\"  # a usecase of *open the floodgates*\n",
    "nlp = spacy.load(\"en_core_web_sm\")  # idiom matcher needs an nlp pipeline; Currently supports en_core_web_sm only.\n",
    "idiomatcher = Idiomatcher.from_pretrained(nlp)  # this will take approx 50 seconds.\n",
    "doc = nlp(sent)  # process the sentence with an nlp pipeline\n"
   ]
  },
  {
   "cell_type": "code",
   "execution_count": 7,
   "metadata": {},
   "outputs": [
    {
     "data": {
      "text/plain": [
       "[{'idiom': 'open the floodgates',\n",
       "  'span': 'The floodgates will remain opened',\n",
       "  'meta': (13612509636477658373, 0, 5)}]"
      ]
     },
     "execution_count": 7,
     "metadata": {},
     "output_type": "execute_result"
    }
   ],
   "source": [
    "idiomatcher.identify(doc)"
   ]
  }
 ],
 "metadata": {
  "kernelspec": {
   "display_name": "textdebias",
   "language": "python",
   "name": "python3"
  },
  "language_info": {
   "codemirror_mode": {
    "name": "ipython",
    "version": 3
   },
   "file_extension": ".py",
   "mimetype": "text/x-python",
   "name": "python",
   "nbconvert_exporter": "python",
   "pygments_lexer": "ipython3",
   "version": "3.9.15"
  },
  "orig_nbformat": 4
 },
 "nbformat": 4,
 "nbformat_minor": 2
}
