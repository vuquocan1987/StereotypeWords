{
 "cells": [
  {
   "cell_type": "code",
   "execution_count": 7,
   "metadata": {},
   "outputs": [
    {
     "name": "stderr",
     "output_type": "stream",
     "text": [
      "No model was supplied, defaulted to distilbert-base-uncased-finetuned-sst-2-english and revision af0f99b (https://huggingface.co/distilbert-base-uncased-finetuned-sst-2-english).\n",
      "Using a pipeline without specifying a model name and revision in production is not recommended.\n"
     ]
    },
    {
     "name": "stdout",
     "output_type": "stream",
     "text": [
      "[[-1.81075931e-03  9.45776701e-05]\n",
      " [ 1.66058540e-04 -7.13914633e-05]\n",
      " [ 4.79243696e-03  1.52818859e-03]\n",
      " [-9.89729300e-01  9.98275355e-01]]\n"
     ]
    }
   ],
   "source": [
    "import shap\n",
    "from transformers import pipeline\n",
    "\n",
    "# Create a transformers pipeline for sentiment analysis\n",
    "sentiment_pipeline = pipeline('sentiment-analysis')\n",
    "\n",
    "# Create a text masker\n",
    "masker = shap.maskers.Text(mask_token=\"[MASKMASKMASK]\")\n",
    "\n",
    "# Create an explainer with the pipeline and masker\n",
    "explainer = shap.Explainer(sentiment_pipeline, masker)\n",
    "\n",
    "# Create an input text\n",
    "input_text = \"The cat is cute\"\n",
    "\n",
    "# Calculate the SHAP values\n",
    "shap_values = explainer([input_text])\n",
    "\n",
    "# Print the SHAP values\n",
    "print(shap_values[0].values)\n"
   ]
  },
  {
   "cell_type": "code",
   "execution_count": 9,
   "metadata": {},
   "outputs": [
    {
     "data": {
      "text/plain": [
       "<bound method Text.shape of <shap.maskers._text.Text object at 0x7f596f19a7f0>>"
      ]
     },
     "execution_count": 9,
     "metadata": {},
     "output_type": "execute_result"
    }
   ],
   "source": [
    ")"
   ]
  }
 ],
 "metadata": {
  "kernelspec": {
   "display_name": "textdebias",
   "language": "python",
   "name": "python3"
  },
  "language_info": {
   "codemirror_mode": {
    "name": "ipython",
    "version": 3
   },
   "file_extension": ".py",
   "mimetype": "text/x-python",
   "name": "python",
   "nbconvert_exporter": "python",
   "pygments_lexer": "ipython3",
   "version": "3.9.15"
  },
  "orig_nbformat": 4
 },
 "nbformat": 4,
 "nbformat_minor": 2
}
